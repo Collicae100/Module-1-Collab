{
 "cells": [
  {
   "cell_type": "code",
   "execution_count": 95,
   "id": "e9c0c704-5295-4fc5-9118-f5509589d186",
   "metadata": {},
   "outputs": [
    {
     "name": "stdin",
     "output_type": "stream",
     "text": [
      "What type of vechicle do you have?:  car\n",
      "Enter the brand of your vehicle:  vw\n",
      "Enter the year your vehicle was made:  2013\n",
      "Enter the model of your vehicle:  cc\n",
      "How many doors does your vehicle have?:  5\n",
      "How many doors does your vehicle have?:  2\n",
      "Do you have a solid roof or sun roof?: (solid/sun)  solid\n"
     ]
    },
    {
     "name": "stdout",
     "output_type": "stream",
     "text": [
      "Your car is a vw cc made in 2013, and has 2 doors and a solid roof\n"
     ]
    }
   ],
   "source": [
    "\"Caleb Collins\"\n",
    "\"Creating classes \"\n",
    "\n",
    "#Vehicle class that will hold the type of vehicle\n",
    "class Vehicle:\n",
    "    def __init__(self, c_type):\n",
    "        self.c_type = c_type\n",
    "\n",
    "#Automobile class that will hold the unique features of the type of Vehicle\n",
    "class Automobile(Vehicle):\n",
    "    def __init__(self, c_type, make, year, model, doors, roof):\n",
    "        super().__init__(c_type)\n",
    "        self.make = make\n",
    "        self.year = year\n",
    "        self.model = model\n",
    "        self.doors = doors\n",
    "        self.roof = roof\n",
    "        \n",
    "        \n",
    "    #prints what the user has filled out for the questions \n",
    "    def __str__(self):\n",
    "        return (f\"Your {self.c_type} is a {self.make} {self.model} made in {self.year}, and has {self.doors} doors and a {self.roof} roof\")\n",
    "\n",
    "\n",
    "# Questions the program asks the user for filling class attributes\n",
    "userType = input(\"What type of vechicle do you have?: \").lower()\n",
    "\n",
    "userMake = input(\"Enter the brand of your vehicle: \").lower()\n",
    "\n",
    "userYear = int(input(\"Enter the year your vehicle was made: \"))\n",
    "\n",
    "userModel = input(\"Enter the model of your vehicle: \").lower()\n",
    "\n",
    "i = 0\n",
    "while i != 1:\n",
    "    try:\n",
    "        userDoor = int(input(\"How many doors does your vehicle have?: \"))\n",
    "        \n",
    "        if userDoor == 2 or userDoor == 4:\n",
    "            i = i + 1\n",
    "            break\n",
    "    except ValueError:\n",
    "        userDoor = int(input(\"Enter either 2 or 4 for the doors: \"))\n",
    "\n",
    "k = 0\n",
    "while k != 1:\n",
    "    try:\n",
    "        \n",
    "        userRoof = input(\"Do you have a solid roof or sun roof?: (solid/sun) \").lower()\n",
    "\n",
    "        if userRoof == \"solid\" or userRoof == \"sun\":\n",
    "            k = k + 1\n",
    "            break\n",
    "    except ValueError:\n",
    "        userRoof = input(\"Enter either solid or sun: (solid/sun) \").lower()\n",
    "\n",
    "#Assigns questions to the Automobile class\n",
    "userCar = Automobile(userType, userMake, userYear, userModel, userDoor, userRoof)\n",
    "print(userCar)"
   ]
  },
  {
   "cell_type": "code",
   "execution_count": null,
   "id": "1e456ff2-eb36-4a8c-9c17-b83216d9b62e",
   "metadata": {},
   "outputs": [],
   "source": []
  }
 ],
 "metadata": {
  "kernelspec": {
   "display_name": "Python 3 (ipykernel)",
   "language": "python",
   "name": "python3"
  },
  "language_info": {
   "codemirror_mode": {
    "name": "ipython",
    "version": 3
   },
   "file_extension": ".py",
   "mimetype": "text/x-python",
   "name": "python",
   "nbconvert_exporter": "python",
   "pygments_lexer": "ipython3",
   "version": "3.12.4"
  }
 },
 "nbformat": 4,
 "nbformat_minor": 5
}
