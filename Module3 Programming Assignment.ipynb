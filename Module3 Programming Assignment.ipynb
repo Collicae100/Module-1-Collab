{
 "cells": [
  {
   "cell_type": "code",
   "execution_count": 78,
   "id": "4ca27d71-55a6-4965-a1a6-06fc7ab7b963",
   "metadata": {},
   "outputs": [
    {
     "name": "stdout",
     "output_type": "stream",
     "text": [
      "['mozerrella', 'CINDERELLA', 'salmonella']\n",
      "['MOZERRELLA', 'cinderella', 'salmonella']\n",
      "['MOZERRELLA', 'cinderella']\n"
     ]
    }
   ],
   "source": [
    "\"Caleb Collins\"\n",
    "\n",
    "\"Will create a list and change different things about it, While also creating functions that will perform different tasks\"\n",
    "\n",
    "\n",
    "#7.4: Creates a list called Things\n",
    "things = [\"mozerrella\", \"cinderella\", \"salmonella\"]\n",
    "\n",
    "\n",
    "#7.5 Capitolize element in list that refer to a person\n",
    "personThings = things\n",
    "for i in range(len(personThings)):\n",
    "    if personThings[i] == \"cinderella\":\n",
    "        personThings[i] = personThings[i].upper()\n",
    "    else:\n",
    "        cheesyThings[i] = cheesyThings[i].lower()\n",
    "print(personThings)\n",
    "\n",
    "\n",
    "#7.6 Capitolize element in list that is chessy \n",
    "cheesyThings = things\n",
    "for i in range(len(chessyThings)):\n",
    "    if cheesyThings[i] == \"mozerrella\":\n",
    "        cheesyThings[i] = cheesyThings[i].upper()\n",
    "    else:\n",
    "        cheesyThings[i] = cheesyThings[i].lower()\n",
    "print(cheesyThings)\n",
    "\n",
    "\n",
    "#7.7 Deletes the desease from \n",
    "deleteThings = things\n",
    "for i in range(len(deleteThings)):\n",
    "    if deleteThings[i] == \"salmonella\":\n",
    "        deleteThings.pop(i)\n",
    "print(deleteThings)"
   ]
  },
  {
   "cell_type": "code",
   "execution_count": 195,
   "id": "2329f901-7adc-4bff-8166-3bfadab7f26b",
   "metadata": {},
   "outputs": [
    {
     "name": "stdout",
     "output_type": "stream",
     "text": [
      "['Harry', 'Ron', 'Hermione']\n",
      "[1, 3, 5, 7, 9]\n",
      "5\n"
     ]
    }
   ],
   "source": [
    "#9.1 Create a function called good that will bring back names when called\n",
    "def good():\n",
    "    good_list = [\"Harry\", \"Ron\", \"Hermione\"]\n",
    "    return good_list\n",
    "\n",
    "print(good())\n",
    "\n",
    "\n",
    "#9.2 Create a function called get_Odds with a range of 10 that produces 3 value returend\n",
    "def get_odds():\n",
    "    odd_List = []\n",
    "    for i in range(10):\n",
    "        if i % 2 == 1:\n",
    "            odd_List.append(i)\n",
    "    return odd_List\n",
    "    \n",
    "print(get_odds())\n",
    "#prints the 3rd value returned\n",
    "returned_Value = get_odds()\n",
    "\n",
    "k = 0\n",
    "for i in range(len(get_odds())):\n",
    "    if k == 2:\n",
    "        print(returned_Value[i])\n",
    "        break\n",
    "    else:\n",
    "        k += 1"
   ]
  },
  {
   "cell_type": "code",
   "execution_count": null,
   "id": "9a46bb6a-b785-4978-b518-d881d30fc4da",
   "metadata": {},
   "outputs": [],
   "source": []
  }
 ],
 "metadata": {
  "kernelspec": {
   "display_name": "Python 3 (ipykernel)",
   "language": "python",
   "name": "python3"
  },
  "language_info": {
   "codemirror_mode": {
    "name": "ipython",
    "version": 3
   },
   "file_extension": ".py",
   "mimetype": "text/x-python",
   "name": "python",
   "nbconvert_exporter": "python",
   "pygments_lexer": "ipython3",
   "version": "3.12.4"
  }
 },
 "nbformat": 4,
 "nbformat_minor": 5
}
