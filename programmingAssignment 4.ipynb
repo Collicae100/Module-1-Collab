{
 "cells": [
  {
   "cell_type": "code",
   "execution_count": 106,
   "id": "e5a35a6d-c906-4dd6-9a57-f80517735050",
   "metadata": {},
   "outputs": [
    {
     "name": "stdout",
     "output_type": "stream",
     "text": [
      "Open 9-5 daily\n",
      "None\n",
      "Open 9-5 daily\n",
      "None\n",
      "['author', 'book']\n",
      "['J R R Tolkien', 'The Hobbit']\n",
      "['Lynne Truss', 'Eats, Shoots & Leaves']\n"
     ]
    }
   ],
   "source": [
    "\"Caleb Collins\"\n",
    "\"This Assignment will follow 11.1, 11.2, and 16.1 for the programming assignment\"\n",
    "\n",
    "#11.1 creates a file called zoo.py then print the hours\n",
    "import zoo\n",
    "print(zoo.hours())\n",
    "\n",
    "#11.2 calls the same file zoo.py but as a different name\n",
    "import zoo as menagerie\n",
    "print(menagerie.hours())\n",
    "\n",
    "\n",
    "#16.1 Creates a CSV file that will hold text then print\n",
    "import books\n",
    "\n",
    "with open('books.py', newline=\"\") as csvText:\n",
    "    reader = csv.reader(csvText)\n",
    "    for row in reader:\n",
    "        print(row)"
   ]
  },
  {
   "cell_type": "code",
   "execution_count": null,
   "id": "e47aa535-cfbf-4084-8f89-74c0ae770a33",
   "metadata": {},
   "outputs": [],
   "source": []
  }
 ],
 "metadata": {
  "kernelspec": {
   "display_name": "Python 3 (ipykernel)",
   "language": "python",
   "name": "python3"
  },
  "language_info": {
   "codemirror_mode": {
    "name": "ipython",
    "version": 3
   },
   "file_extension": ".py",
   "mimetype": "text/x-python",
   "name": "python",
   "nbconvert_exporter": "python",
   "pygments_lexer": "ipython3",
   "version": "3.12.4"
  }
 },
 "nbformat": 4,
 "nbformat_minor": 5
}
