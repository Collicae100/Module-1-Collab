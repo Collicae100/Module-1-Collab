{
 "cells": [
  {
   "cell_type": "code",
   "execution_count": 7,
   "id": "16681c3a-bc1e-4cc3-97bc-34f3f2bea19d",
   "metadata": {},
   "outputs": [
    {
     "name": "stdout",
     "output_type": "stream",
     "text": [
      "3600\n"
     ]
    }
   ],
   "source": [
    "\"3.1)\"\n",
    "\"Answer: There are 3600 Seconds in an Hour\"\n",
    "\n",
    "x = 60\n",
    "y = 60\n",
    "print(x * y)"
   ]
  },
  {
   "cell_type": "code",
   "execution_count": 9,
   "id": "ae3071d4-d8eb-4613-9f29-2eac5918c0d3",
   "metadata": {},
   "outputs": [],
   "source": [
    "\"3.2)\"\n",
    "seconds_per_hour = 3600"
   ]
  },
  {
   "cell_type": "code",
   "execution_count": 19,
   "id": "3de19fdc-76b6-473a-bdb7-c9b8f8c83fda",
   "metadata": {},
   "outputs": [
    {
     "name": "stdout",
     "output_type": "stream",
     "text": [
      "86400\n"
     ]
    }
   ],
   "source": [
    "\"3.3\"\n",
    "\"Answer: There are 86,400 Seconds in a Day\"\n",
    "\n",
    "seconds_per_day = seconds_per_hour * 24\n",
    "print(seconds_per_day)"
   ]
  },
  {
   "cell_type": "code",
   "execution_count": 21,
   "id": "02bd372c-68cc-421e-80c8-a13ea2741080",
   "metadata": {},
   "outputs": [],
   "source": [
    "\"3.4\"\n",
    "seconds_per_day = 86400"
   ]
  },
  {
   "cell_type": "code",
   "execution_count": 27,
   "id": "d416682f-645a-40e2-8719-91620dc136b1",
   "metadata": {},
   "outputs": [
    {
     "name": "stdout",
     "output_type": "stream",
     "text": [
      "24.0\n"
     ]
    }
   ],
   "source": [
    "\"3.5\"\n",
    "\n",
    "float_Div = seconds_per_day / seconds_per_hour\n",
    "print(float_Div)"
   ]
  },
  {
   "cell_type": "code",
   "execution_count": 29,
   "id": "12b101d1-8d65-4688-9cba-cac3467d20b2",
   "metadata": {},
   "outputs": [
    {
     "name": "stdout",
     "output_type": "stream",
     "text": [
      "24\n"
     ]
    }
   ],
   "source": [
    "\"3.6\"\n",
    "\n",
    "integer_Div = seconds_per_day // seconds_per_hour\n",
    "print(integer_Div)"
   ]
  },
  {
   "cell_type": "code",
   "execution_count": null,
   "id": "859afb6a-4b03-47cc-866e-477c7b41bf9b",
   "metadata": {},
   "outputs": [],
   "source": []
  }
 ],
 "metadata": {
  "kernelspec": {
   "display_name": "Python 3 (ipykernel)",
   "language": "python",
   "name": "python3"
  },
  "language_info": {
   "codemirror_mode": {
    "name": "ipython",
    "version": 3
   },
   "file_extension": ".py",
   "mimetype": "text/x-python",
   "name": "python",
   "nbconvert_exporter": "python",
   "pygments_lexer": "ipython3",
   "version": "3.12.4"
  }
 },
 "nbformat": 4,
 "nbformat_minor": 5
}
