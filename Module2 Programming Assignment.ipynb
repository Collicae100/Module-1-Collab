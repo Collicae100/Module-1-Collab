{
 "cells": [
  {
   "cell_type": "code",
   "execution_count": 22,
   "id": "a702f168-3ff5-40d2-b292-a132a0187754",
   "metadata": {
    "collapsed": true,
    "jupyter": {
     "outputs_hidden": true
    },
    "scrolled": true
   },
   "outputs": [
    {
     "name": "stdin",
     "output_type": "stream",
     "text": [
      "Enter a number between 1 - 10:  5\n"
     ]
    },
    {
     "name": "stdout",
     "output_type": "stream",
     "text": [
      "Your number is smaller than the right number\n"
     ]
    },
    {
     "name": "stdin",
     "output_type": "stream",
     "text": [
      "Would you like to play again? (yes/no)  yes\n",
      "Enter a number between 1 - 10:  2\n"
     ]
    },
    {
     "name": "stdout",
     "output_type": "stream",
     "text": [
      "Your number is smaller than the right number\n"
     ]
    },
    {
     "name": "stdin",
     "output_type": "stream",
     "text": [
      "Would you like to play again? (yes/no)  yes\n",
      "Enter a number between 1 - 10:  6\n"
     ]
    },
    {
     "name": "stdout",
     "output_type": "stream",
     "text": [
      "Your number is smaller than the right number\n"
     ]
    },
    {
     "name": "stdin",
     "output_type": "stream",
     "text": [
      "Would you like to play again? (yes/no)  no\n"
     ]
    },
    {
     "name": "stdout",
     "output_type": "stream",
     "text": [
      "Thanks for playing\n"
     ]
    }
   ],
   "source": [
    "import random\n",
    "\n",
    "\"Caleb Collins\"\n",
    "\n",
    "\"4.1Assignment, will have 2 variables called secret and the other called guess that will contain a numerical value between 1 - 10\"\n",
    "\"The user will need to guess the value of the 'secret' variable by testing against the 'guess' variable\"\n",
    "\n",
    "try_Again = \"yes\"\n",
    "guess = 0\n",
    "secret = 1\n",
    "\n",
    "#A while loop so that the user can continue \n",
    "while try_Again == \"yes\" and guess != secret:\n",
    "    \n",
    "#Makes 2 variables one that has the user guess a number between 1-10 (guess) and one that has the comp pick a number between 1-10 (secret)\n",
    "    guess = int(input(\"Enter a number between 1 - 10: \"))\n",
    "    secret = random.randint(1,10)\n",
    "    \n",
    "    if guess >= secret:\n",
    "        print(\"Your number is larger than the right number\")\n",
    "    elif guess <= secret:\n",
    "        print(\"Your number is smaller than the right number\")\n",
    "    else:\n",
    "        print(\"Correct you picked the right number\")\n",
    "\n",
    "    try_Again = input(\"Would you like to play again? (yes/no) \").lower()\n",
    "\n",
    "\n",
    "    if try_Again == \"no\":\n",
    "        print(\"Thanks for playing\")\n",
    "    "
   ]
  },
  {
   "cell_type": "code",
   "execution_count": 46,
   "id": "4936da26-675e-4fb7-910d-6cf28aad11a2",
   "metadata": {},
   "outputs": [
    {
     "name": "stdin",
     "output_type": "stream",
     "text": [
      "Is the food small?  yes\n",
      "Is the food green?  no\n"
     ]
    },
    {
     "name": "stdout",
     "output_type": "stream",
     "text": [
      "Your food is the Cherry\n"
     ]
    }
   ],
   "source": [
    "\"4.2 will assign true and false variables green and small then to test if/else statements on different foods to see if they match\"\n",
    "\n",
    "#asks the user if the item is small & if the item is green\n",
    "small = input(\"Is the food small? \").lower()\n",
    "\n",
    "if small == \"yes\":\n",
    "    small = True\n",
    "else:\n",
    "    small = False\n",
    "\n",
    "#If answer is anything but yes will default to false\n",
    "green = input(\"Is the food green? \").lower()\n",
    "\n",
    "if green == \"yes\":\n",
    "    green = True\n",
    "else:\n",
    "    green = False\n",
    "\n",
    "#Test the values from small and green to see which food matches their description\n",
    "if small == True and green == True:\n",
    "    print(\"Your food is the Pea\")\n",
    "elif small == False and green == False:\n",
    "    print(\"Your food is the Pumpkin\")\n",
    "elif small == True and green == False:\n",
    "    print(\"Your food is the Cherry\")\n",
    "else:\n",
    "    print(\"Your food is the Watermelon\")"
   ]
  },
  {
   "cell_type": "code",
   "execution_count": 58,
   "id": "39a91a4e-2d77-4659-8ffd-82bd2befffd4",
   "metadata": {},
   "outputs": [
    {
     "name": "stdout",
     "output_type": "stream",
     "text": [
      "1\n",
      "5\n",
      "6\n",
      "2\n",
      "9\n"
     ]
    }
   ],
   "source": [
    "\"6.1 Using a loop to print the values in a list\"\n",
    "\n",
    "#Creates a list of 5 numbers that vary in range \n",
    "number_List = [1, 5, 6, 2, 9]\n",
    "\n",
    "#creates a for loop that will go through the list and print out each number on a new line from right to left\n",
    "for i in range(len(number_List)):\n",
    "    print(number_List[i])\n"
   ]
  },
  {
   "cell_type": "code",
   "execution_count": 111,
   "id": "fd0c356a-fc33-414e-bf25-48f89f2ffbea",
   "metadata": {},
   "outputs": [
    {
     "name": "stdout",
     "output_type": "stream",
     "text": [
      "1\n",
      "The number is lower then selected number\n",
      "2\n",
      "The number is lower then selected number\n",
      "3\n",
      "The number is lower then selected number\n",
      "4\n",
      "The number is lower then selected number\n",
      "5\n",
      "The number is lower then selected number\n",
      "6\n",
      "The number is lower then selected number\n",
      "7\n",
      "Yes!!! This is the correct number\n"
     ]
    }
   ],
   "source": [
    "\"6.2 Assigning a fixed integer to a variable (guess_Me) then assisging the number 1 to number\"\n",
    "\"I will use a while loop to continue iterating until the user has guessed what number is in (guess_Me)\"\n",
    "\n",
    "#Assigning the number 7 to guess_Me\n",
    "guess_Me = 7\n",
    "\n",
    "#Assigning the number 1 to number\n",
    "number = 1\n",
    "\n",
    "#Creating a while loop that will have (Number) continue to iterate until it reaches (Guess_Me) \n",
    "while number != guess_Me:\n",
    "    if number <= guess_Me:\n",
    "        print(number)\n",
    "        print(\"The number is lower then selected number\")\n",
    "    else:\n",
    "        print(number)\n",
    "        print(\"The number is greater then selected number\")\n",
    "        \n",
    "    #Will iterate the (Number) depending if it is too big or too small\n",
    "    if number <= guess_Me:\n",
    "        number = number + 1\n",
    "    else:\n",
    "        number = number - 1\n",
    "\n",
    "print(number)\n",
    "print(\"Yes!!! This is the correct number\")"
   ]
  },
  {
   "cell_type": "code",
   "execution_count": 127,
   "id": "88a47e8f-d49f-448b-9f7c-49c5646cd577",
   "metadata": {},
   "outputs": [
    {
     "name": "stdout",
     "output_type": "stream",
     "text": [
      "1\n",
      "The number is lower than 5\n",
      "2\n",
      "The number is lower than 5\n",
      "3\n",
      "The number is lower than 5\n",
      "4\n",
      "The number is lower than 5\n",
      "5\n",
      "Found 5\n"
     ]
    }
   ],
   "source": [
    "\"6.3 Will assign the variable (Guess_Me) the value of 5 then use a For loop to iterate a varable called (Number) reached the (Guess_Me) Variable\"\n",
    "\"The maximum range of the For loop is only to 10 so once the loop passes (Guess_Me) it will say Oops then end the loop\"\n",
    "\n",
    "#Assigning the number 5 to guess_Me\n",
    "guess_Me = 5\n",
    "\n",
    "#Assigning the number 1 to number\n",
    "number = 1\n",
    "\n",
    "#Create a For loop that will continue to iterate until it reaches (Guess_Me) value\n",
    "for i in range(10):\n",
    "    if number < guess_Me:\n",
    "        print(number)\n",
    "        print(\"The number is lower than\" + \" \" + str(guess_Me))\n",
    "    elif number > guess_Me:\n",
    "        print(number)\n",
    "        print(\"OOP'S TOO FAR!!\")\n",
    "        break\n",
    "    elif number == guess_Me:\n",
    "        print(number)\n",
    "        print(\"Found\" + \" \" + str(guess_Me))\n",
    "        break\n",
    "    number = number + 1\n",
    "\n"
   ]
  },
  {
   "cell_type": "code",
   "execution_count": null,
   "id": "232ab4f2-3a46-4e63-8acb-df1c49b6a38b",
   "metadata": {},
   "outputs": [],
   "source": []
  }
 ],
 "metadata": {
  "kernelspec": {
   "display_name": "Python 3 (ipykernel)",
   "language": "python",
   "name": "python3"
  },
  "language_info": {
   "codemirror_mode": {
    "name": "ipython",
    "version": 3
   },
   "file_extension": ".py",
   "mimetype": "text/x-python",
   "name": "python",
   "nbconvert_exporter": "python",
   "pygments_lexer": "ipython3",
   "version": "3.12.4"
  }
 },
 "nbformat": 4,
 "nbformat_minor": 5
}
