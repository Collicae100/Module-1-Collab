{
 "cells": [
  {
   "cell_type": "code",
   "execution_count": 49,
   "id": "ea7f12ab-32ac-4561-a6cf-5bcf949bf246",
   "metadata": {},
   "outputs": [
    {
     "name": "stdin",
     "output_type": "stream",
     "text": [
      "Enter your LAST name:  Cooper\n",
      "Enter your FIRST name:  Sly\n",
      "What is your current GPA:  5\n"
     ]
    },
    {
     "name": "stdout",
     "output_type": "stream",
     "text": [
      "That GPA is not within a set range of 0 - 4\n"
     ]
    }
   ],
   "source": [
    "\"Module 2 Case Study\"\n",
    "\n",
    "\"Caleb Collins\"\n",
    "\n",
    "\"This app will ask the user to input their name starting from last to first then ask for their GPA.\"\n",
    "\"With the user giving their GPA the computer will determin if they have made honor roll or the Dean's list\"\n",
    "\n",
    "\n",
    "\n",
    "dynamic_L_Name = str(input(\"Enter your LAST name: \")).lower()\n",
    "\n",
    "if dynamic_L_Name == \"ZZZ\" or dynamic_L_Name == \" \":\n",
    "    print(\"Have a nice day \")\n",
    "\n",
    "dynamic_F_Name = str(input(\"Enter your FIRST name: \")).lower()\n",
    "\n",
    "stud_GPA = float(input(\"What is your current GPA: \"))\n",
    "\n",
    "full_Name = dynamic_F_Name + \" \" + dynamic_L_Name\n",
    "\n",
    "if stud_GPA >= 0.0 and stud_GPA <= 4.0:\n",
    "    print(\"Currently, \\n\")\n",
    "    if stud_GPA >= 3.5:\n",
    "        print(\"Congrates \" +  full_Name + \" ,you have made it to the Dean's List!!!\")\n",
    "    elif stud_GPA >= 3.25:\n",
    "        print(\"Congrates \" + full_Name + \", you have made Honor Roll!\")\n",
    "    else:\n",
    "        print(full_Name + \" ,you have not earned nothing\")\n",
    "else:\n",
    "    print('That GPA is not within a set range of 0 - 4')"
   ]
  },
  {
   "cell_type": "code",
   "execution_count": null,
   "id": "ad1c32b6-4c43-4823-a51b-896031f77c6f",
   "metadata": {},
   "outputs": [],
   "source": []
  }
 ],
 "metadata": {
  "kernelspec": {
   "display_name": "Python 3 (ipykernel)",
   "language": "python",
   "name": "python3"
  },
  "language_info": {
   "codemirror_mode": {
    "name": "ipython",
    "version": 3
   },
   "file_extension": ".py",
   "mimetype": "text/x-python",
   "name": "python",
   "nbconvert_exporter": "python",
   "pygments_lexer": "ipython3",
   "version": "3.12.4"
  }
 },
 "nbformat": 4,
 "nbformat_minor": 5
}
